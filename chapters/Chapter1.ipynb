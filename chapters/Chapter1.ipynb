{
 "cells": [
  {
   "cell_type": "markdown",
   "metadata": {
    "hideCode": false,
    "hidePrompt": false,
    "slideshow": {
     "slide_type": "slide"
    }
   },
   "source": [
    "# Chapter 1 - Decision by Committee\n",
    "\n",
    "Paul E. Anderson"
   ]
  },
  {
   "cell_type": "code",
   "execution_count": 63,
   "metadata": {
    "slideshow": {
     "slide_type": "skip"
    }
   },
   "outputs": [
    {
     "name": "stdout",
     "output_type": "stream",
     "text": [
      "The autoreload extension is already loaded. To reload it, use:\n",
      "  %reload_ext autoreload\n"
     ]
    }
   ],
   "source": [
    "%load_ext autoreload\n",
    "%autoreload 2\n",
    "\n",
    "\n",
    "from pathlib import Path\n",
    "home = str(Path.home()) # all other paths are relative to this path. change to something else if this is not the case on your system\n",
    "\n",
    "import sys\n",
    "sys.path.insert(0,'..')\n",
    "\n",
    "import py566"
   ]
  },
  {
   "cell_type": "markdown",
   "metadata": {
    "slideshow": {
     "slide_type": "subslide"
    }
   },
   "source": [
    "<img src=\"https://s36369.pcdn.co/wp-content/uploads/2018/11/Two-heads-are-better-than-one-HP.jpg\">"
   ]
  },
  {
   "cell_type": "markdown",
   "metadata": {
    "slideshow": {
     "slide_type": "subslide"
    }
   },
   "source": [
    "**Definition:** Ensemble learning is a type of learning that combines a set/ensemble of learners to reach a prediction."
   ]
  },
  {
   "cell_type": "markdown",
   "metadata": {
    "slideshow": {
     "slide_type": "subslide"
    }
   },
   "source": [
    "## Two main types of ensemble learning\n",
    "\n",
    "<img src=\"https://miro.medium.com/max/2000/1*zTgGBTQIMlASWm5QuS2UpA.jpeg\">"
   ]
  },
  {
   "cell_type": "markdown",
   "metadata": {
    "slideshow": {
     "slide_type": "subslide"
    }
   },
   "source": [
    "One thing all these methods have to decide is how to get different models from the same dataset. Bagging gets the different models by dividing up the training data. Boosting gets different models by training a series of models on the residual of the previous model."
   ]
  },
  {
   "cell_type": "markdown",
   "metadata": {
    "slideshow": {
     "slide_type": "subslide"
    }
   },
   "source": [
    "## Bagging\n",
    "Bagging stands for bootstrap aggregating. \n",
    "\n",
    "So what is a bootstrap? A bootstrap sample is a sample taken from the original dataset with replacement. A new dataset created with boostrap sampling is the same size as the original. \n",
    "\n",
    "This is completely different from a bootstrap loader from computer science. \n",
    "\n",
    "So why would duplicating samples do us any good? If we do this multiple times and create a new classifier each time, then we will have our ensemble!"
   ]
  },
  {
   "cell_type": "markdown",
   "metadata": {},
   "source": [
    "**Loading a dataset**"
   ]
  },
  {
   "cell_type": "code",
   "execution_count": 31,
   "metadata": {
    "slideshow": {
     "slide_type": "fragment"
    }
   },
   "outputs": [
    {
     "data": {
      "text/html": [
       "<div>\n",
       "<style scoped>\n",
       "    .dataframe tbody tr th:only-of-type {\n",
       "        vertical-align: middle;\n",
       "    }\n",
       "\n",
       "    .dataframe tbody tr th {\n",
       "        vertical-align: top;\n",
       "    }\n",
       "\n",
       "    .dataframe thead th {\n",
       "        text-align: right;\n",
       "    }\n",
       "</style>\n",
       "<table border=\"1\" class=\"dataframe\">\n",
       "  <thead>\n",
       "    <tr style=\"text-align: right;\">\n",
       "      <th></th>\n",
       "      <th>PassengerId</th>\n",
       "      <th>Survived</th>\n",
       "      <th>Pclass</th>\n",
       "      <th>Name</th>\n",
       "      <th>Sex</th>\n",
       "      <th>Age</th>\n",
       "      <th>SibSp</th>\n",
       "      <th>Parch</th>\n",
       "      <th>Ticket</th>\n",
       "      <th>Fare</th>\n",
       "      <th>Cabin</th>\n",
       "      <th>Embarked</th>\n",
       "    </tr>\n",
       "  </thead>\n",
       "  <tbody>\n",
       "    <tr>\n",
       "      <th>0</th>\n",
       "      <td>1</td>\n",
       "      <td>0</td>\n",
       "      <td>3</td>\n",
       "      <td>Braund, Mr. Owen Harris</td>\n",
       "      <td>male</td>\n",
       "      <td>22.0</td>\n",
       "      <td>1</td>\n",
       "      <td>0</td>\n",
       "      <td>A/5 21171</td>\n",
       "      <td>7.2500</td>\n",
       "      <td>NaN</td>\n",
       "      <td>S</td>\n",
       "    </tr>\n",
       "    <tr>\n",
       "      <th>1</th>\n",
       "      <td>2</td>\n",
       "      <td>1</td>\n",
       "      <td>1</td>\n",
       "      <td>Cumings, Mrs. John Bradley (Florence Briggs Th...</td>\n",
       "      <td>female</td>\n",
       "      <td>38.0</td>\n",
       "      <td>1</td>\n",
       "      <td>0</td>\n",
       "      <td>PC 17599</td>\n",
       "      <td>71.2833</td>\n",
       "      <td>C85</td>\n",
       "      <td>C</td>\n",
       "    </tr>\n",
       "    <tr>\n",
       "      <th>2</th>\n",
       "      <td>3</td>\n",
       "      <td>1</td>\n",
       "      <td>3</td>\n",
       "      <td>Heikkinen, Miss. Laina</td>\n",
       "      <td>female</td>\n",
       "      <td>26.0</td>\n",
       "      <td>0</td>\n",
       "      <td>0</td>\n",
       "      <td>STON/O2. 3101282</td>\n",
       "      <td>7.9250</td>\n",
       "      <td>NaN</td>\n",
       "      <td>S</td>\n",
       "    </tr>\n",
       "    <tr>\n",
       "      <th>3</th>\n",
       "      <td>4</td>\n",
       "      <td>1</td>\n",
       "      <td>1</td>\n",
       "      <td>Futrelle, Mrs. Jacques Heath (Lily May Peel)</td>\n",
       "      <td>female</td>\n",
       "      <td>35.0</td>\n",
       "      <td>1</td>\n",
       "      <td>0</td>\n",
       "      <td>113803</td>\n",
       "      <td>53.1000</td>\n",
       "      <td>C123</td>\n",
       "      <td>S</td>\n",
       "    </tr>\n",
       "    <tr>\n",
       "      <th>4</th>\n",
       "      <td>5</td>\n",
       "      <td>0</td>\n",
       "      <td>3</td>\n",
       "      <td>Allen, Mr. William Henry</td>\n",
       "      <td>male</td>\n",
       "      <td>35.0</td>\n",
       "      <td>0</td>\n",
       "      <td>0</td>\n",
       "      <td>373450</td>\n",
       "      <td>8.0500</td>\n",
       "      <td>NaN</td>\n",
       "      <td>S</td>\n",
       "    </tr>\n",
       "  </tbody>\n",
       "</table>\n",
       "</div>"
      ],
      "text/plain": [
       "   PassengerId  Survived  Pclass  \\\n",
       "0            1         0       3   \n",
       "1            2         1       1   \n",
       "2            3         1       3   \n",
       "3            4         1       1   \n",
       "4            5         0       3   \n",
       "\n",
       "                                                Name     Sex   Age  SibSp  \\\n",
       "0                            Braund, Mr. Owen Harris    male  22.0      1   \n",
       "1  Cumings, Mrs. John Bradley (Florence Briggs Th...  female  38.0      1   \n",
       "2                             Heikkinen, Miss. Laina  female  26.0      0   \n",
       "3       Futrelle, Mrs. Jacques Heath (Lily May Peel)  female  35.0      1   \n",
       "4                           Allen, Mr. William Henry    male  35.0      0   \n",
       "\n",
       "   Parch            Ticket     Fare Cabin Embarked  \n",
       "0      0         A/5 21171   7.2500   NaN        S  \n",
       "1      0          PC 17599  71.2833   C85        C  \n",
       "2      0  STON/O2. 3101282   7.9250   NaN        S  \n",
       "3      0            113803  53.1000  C123        S  \n",
       "4      0            373450   8.0500   NaN        S  "
      ]
     },
     "execution_count": 31,
     "metadata": {},
     "output_type": "execute_result"
    }
   ],
   "source": [
    "import pandas as pd\n",
    "import numpy as np\n",
    "\n",
    "titanic_df = pd.read_csv(\n",
    "    f\"../data/titanic.csv\"\n",
    ")\n",
    "titanic_df.head()"
   ]
  },
  {
   "cell_type": "markdown",
   "metadata": {},
   "source": [
    "**Cleaning and modifying the data**"
   ]
  },
  {
   "cell_type": "code",
   "execution_count": 4,
   "metadata": {
    "slideshow": {
     "slide_type": "subslide"
    }
   },
   "outputs": [
    {
     "data": {
      "text/html": [
       "<div>\n",
       "<style scoped>\n",
       "    .dataframe tbody tr th:only-of-type {\n",
       "        vertical-align: middle;\n",
       "    }\n",
       "\n",
       "    .dataframe tbody tr th {\n",
       "        vertical-align: top;\n",
       "    }\n",
       "\n",
       "    .dataframe thead th {\n",
       "        text-align: right;\n",
       "    }\n",
       "</style>\n",
       "<table border=\"1\" class=\"dataframe\">\n",
       "  <thead>\n",
       "    <tr style=\"text-align: right;\">\n",
       "      <th></th>\n",
       "      <th>Pclass</th>\n",
       "      <th>Sex</th>\n",
       "      <th>Age</th>\n",
       "      <th>SibSp</th>\n",
       "      <th>Parch</th>\n",
       "      <th>Fare</th>\n",
       "      <th>Embarked</th>\n",
       "      <th>CabinLetter</th>\n",
       "    </tr>\n",
       "  </thead>\n",
       "  <tbody>\n",
       "    <tr>\n",
       "      <th>0</th>\n",
       "      <td>3</td>\n",
       "      <td>male</td>\n",
       "      <td>20</td>\n",
       "      <td>1</td>\n",
       "      <td>0</td>\n",
       "      <td>7.2500</td>\n",
       "      <td>S</td>\n",
       "      <td>?</td>\n",
       "    </tr>\n",
       "    <tr>\n",
       "      <th>1</th>\n",
       "      <td>1</td>\n",
       "      <td>female</td>\n",
       "      <td>30</td>\n",
       "      <td>1</td>\n",
       "      <td>0</td>\n",
       "      <td>71.2833</td>\n",
       "      <td>C</td>\n",
       "      <td>C</td>\n",
       "    </tr>\n",
       "    <tr>\n",
       "      <th>2</th>\n",
       "      <td>3</td>\n",
       "      <td>female</td>\n",
       "      <td>20</td>\n",
       "      <td>0</td>\n",
       "      <td>0</td>\n",
       "      <td>7.9250</td>\n",
       "      <td>S</td>\n",
       "      <td>?</td>\n",
       "    </tr>\n",
       "    <tr>\n",
       "      <th>3</th>\n",
       "      <td>1</td>\n",
       "      <td>female</td>\n",
       "      <td>30</td>\n",
       "      <td>1</td>\n",
       "      <td>0</td>\n",
       "      <td>53.1000</td>\n",
       "      <td>S</td>\n",
       "      <td>C</td>\n",
       "    </tr>\n",
       "    <tr>\n",
       "      <th>4</th>\n",
       "      <td>3</td>\n",
       "      <td>male</td>\n",
       "      <td>30</td>\n",
       "      <td>0</td>\n",
       "      <td>0</td>\n",
       "      <td>8.0500</td>\n",
       "      <td>S</td>\n",
       "      <td>?</td>\n",
       "    </tr>\n",
       "  </tbody>\n",
       "</table>\n",
       "</div>"
      ],
      "text/plain": [
       "  Pclass     Sex Age SibSp Parch     Fare Embarked CabinLetter\n",
       "0      3    male  20     1     0   7.2500        S           ?\n",
       "1      1  female  30     1     0  71.2833        C           C\n",
       "2      3  female  20     0     0   7.9250        S           ?\n",
       "3      1  female  30     1     0  53.1000        S           C\n",
       "4      3    male  30     0     0   8.0500        S           ?"
      ]
     },
     "execution_count": 4,
     "metadata": {},
     "output_type": "execute_result"
    }
   ],
   "source": [
    "features = ['Pclass','Sex','Age','SibSp','Parch','Fare','Cabin','Embarked']\n",
    "titanic_df2 = titanic_df.loc[:,features]\n",
    "titanic_df2['CabinLetter'] = titanic_df2['Cabin'].str.slice(0,1)\n",
    "X = titanic_df2.drop('Cabin',axis=1)\n",
    "X['CabinLetter'] = X['CabinLetter'].fillna(\"?\")\n",
    "X['Pclass'] = X['Pclass'].astype(str)\n",
    "X['SibSp'] = X['SibSp'].astype(str)\n",
    "X['Parch'] = X['Parch'].astype(str)\n",
    "X['Age'] = ((X['Age'].fillna(X['Age'].mean())/10).astype(int)*10).astype(int).astype(str)\n",
    "\n",
    "X = X.dropna()\n",
    "X.head()"
   ]
  },
  {
   "cell_type": "code",
   "execution_count": 5,
   "metadata": {},
   "outputs": [
    {
     "data": {
      "text/plain": [
       "Pclass          object\n",
       "Sex             object\n",
       "Age             object\n",
       "SibSp           object\n",
       "Parch           object\n",
       "Fare           float64\n",
       "Embarked        object\n",
       "CabinLetter     object\n",
       "dtype: object"
      ]
     },
     "execution_count": 5,
     "metadata": {},
     "output_type": "execute_result"
    }
   ],
   "source": [
    "X.dtypes"
   ]
  },
  {
   "cell_type": "markdown",
   "metadata": {},
   "source": [
    "**Creating and fitting a very simple guess-the-mean regressor**"
   ]
  },
  {
   "cell_type": "code",
   "execution_count": 6,
   "metadata": {},
   "outputs": [
    {
     "data": {
      "text/html": [
       "<style>#sk-container-id-1 {color: black;background-color: white;}#sk-container-id-1 pre{padding: 0;}#sk-container-id-1 div.sk-toggleable {background-color: white;}#sk-container-id-1 label.sk-toggleable__label {cursor: pointer;display: block;width: 100%;margin-bottom: 0;padding: 0.3em;box-sizing: border-box;text-align: center;}#sk-container-id-1 label.sk-toggleable__label-arrow:before {content: \"▸\";float: left;margin-right: 0.25em;color: #696969;}#sk-container-id-1 label.sk-toggleable__label-arrow:hover:before {color: black;}#sk-container-id-1 div.sk-estimator:hover label.sk-toggleable__label-arrow:before {color: black;}#sk-container-id-1 div.sk-toggleable__content {max-height: 0;max-width: 0;overflow: hidden;text-align: left;background-color: #f0f8ff;}#sk-container-id-1 div.sk-toggleable__content pre {margin: 0.2em;color: black;border-radius: 0.25em;background-color: #f0f8ff;}#sk-container-id-1 input.sk-toggleable__control:checked~div.sk-toggleable__content {max-height: 200px;max-width: 100%;overflow: auto;}#sk-container-id-1 input.sk-toggleable__control:checked~label.sk-toggleable__label-arrow:before {content: \"▾\";}#sk-container-id-1 div.sk-estimator input.sk-toggleable__control:checked~label.sk-toggleable__label {background-color: #d4ebff;}#sk-container-id-1 div.sk-label input.sk-toggleable__control:checked~label.sk-toggleable__label {background-color: #d4ebff;}#sk-container-id-1 input.sk-hidden--visually {border: 0;clip: rect(1px 1px 1px 1px);clip: rect(1px, 1px, 1px, 1px);height: 1px;margin: -1px;overflow: hidden;padding: 0;position: absolute;width: 1px;}#sk-container-id-1 div.sk-estimator {font-family: monospace;background-color: #f0f8ff;border: 1px dotted black;border-radius: 0.25em;box-sizing: border-box;margin-bottom: 0.5em;}#sk-container-id-1 div.sk-estimator:hover {background-color: #d4ebff;}#sk-container-id-1 div.sk-parallel-item::after {content: \"\";width: 100%;border-bottom: 1px solid gray;flex-grow: 1;}#sk-container-id-1 div.sk-label:hover label.sk-toggleable__label {background-color: #d4ebff;}#sk-container-id-1 div.sk-serial::before {content: \"\";position: absolute;border-left: 1px solid gray;box-sizing: border-box;top: 0;bottom: 0;left: 50%;z-index: 0;}#sk-container-id-1 div.sk-serial {display: flex;flex-direction: column;align-items: center;background-color: white;padding-right: 0.2em;padding-left: 0.2em;position: relative;}#sk-container-id-1 div.sk-item {position: relative;z-index: 1;}#sk-container-id-1 div.sk-parallel {display: flex;align-items: stretch;justify-content: center;background-color: white;position: relative;}#sk-container-id-1 div.sk-item::before, #sk-container-id-1 div.sk-parallel-item::before {content: \"\";position: absolute;border-left: 1px solid gray;box-sizing: border-box;top: 0;bottom: 0;left: 50%;z-index: -1;}#sk-container-id-1 div.sk-parallel-item {display: flex;flex-direction: column;z-index: 1;position: relative;background-color: white;}#sk-container-id-1 div.sk-parallel-item:first-child::after {align-self: flex-end;width: 50%;}#sk-container-id-1 div.sk-parallel-item:last-child::after {align-self: flex-start;width: 50%;}#sk-container-id-1 div.sk-parallel-item:only-child::after {width: 0;}#sk-container-id-1 div.sk-dashed-wrapped {border: 1px dashed gray;margin: 0 0.4em 0.5em 0.4em;box-sizing: border-box;padding-bottom: 0.4em;background-color: white;}#sk-container-id-1 div.sk-label label {font-family: monospace;font-weight: bold;display: inline-block;line-height: 1.2em;}#sk-container-id-1 div.sk-label-container {text-align: center;}#sk-container-id-1 div.sk-container {/* jupyter's `normalize.less` sets `[hidden] { display: none; }` but bootstrap.min.css set `[hidden] { display: none !important; }` so we also need the `!important` here to be able to override the default hidden behavior on the sphinx rendered scikit-learn.org. See: https://github.com/scikit-learn/scikit-learn/issues/21755 */display: inline-block !important;position: relative;}#sk-container-id-1 div.sk-text-repr-fallback {display: none;}</style><div id=\"sk-container-id-1\" class=\"sk-top-container\"><div class=\"sk-text-repr-fallback\"><pre>MeanRegressor()</pre><b>In a Jupyter environment, please rerun this cell to show the HTML representation or trust the notebook. <br />On GitHub, the HTML representation is unable to render, please try loading this page with nbviewer.org.</b></div><div class=\"sk-container\" hidden><div class=\"sk-item\"><div class=\"sk-estimator sk-toggleable\"><input class=\"sk-toggleable__control sk-hidden--visually\" id=\"sk-estimator-id-1\" type=\"checkbox\" checked><label for=\"sk-estimator-id-1\" class=\"sk-toggleable__label sk-toggleable__label-arrow\">MeanRegressor</label><div class=\"sk-toggleable__content\"><pre>MeanRegressor()</pre></div></div></div></div></div>"
      ],
      "text/plain": [
       "MeanRegressor()"
      ]
     },
     "execution_count": 6,
     "metadata": {},
     "output_type": "execute_result"
    }
   ],
   "source": [
    "reg = py566.base.MeanRegressor()\n",
    "reg.fit(X,X['Fare'])"
   ]
  },
  {
   "cell_type": "markdown",
   "metadata": {},
   "source": [
    "**How would we evaluate this model?**"
   ]
  },
  {
   "cell_type": "code",
   "execution_count": 7,
   "metadata": {},
   "outputs": [
    {
     "data": {
      "text/html": [
       "<div>\n",
       "<style scoped>\n",
       "    .dataframe tbody tr th:only-of-type {\n",
       "        vertical-align: middle;\n",
       "    }\n",
       "\n",
       "    .dataframe tbody tr th {\n",
       "        vertical-align: top;\n",
       "    }\n",
       "\n",
       "    .dataframe thead th {\n",
       "        text-align: right;\n",
       "    }\n",
       "</style>\n",
       "<table border=\"1\" class=\"dataframe\">\n",
       "  <thead>\n",
       "    <tr style=\"text-align: right;\">\n",
       "      <th></th>\n",
       "      <th>Pclass</th>\n",
       "      <th>Sex</th>\n",
       "      <th>Age</th>\n",
       "      <th>SibSp</th>\n",
       "      <th>Parch</th>\n",
       "      <th>Embarked</th>\n",
       "      <th>CabinLetter</th>\n",
       "    </tr>\n",
       "  </thead>\n",
       "  <tbody>\n",
       "    <tr>\n",
       "      <th>0</th>\n",
       "      <td>3</td>\n",
       "      <td>male</td>\n",
       "      <td>20</td>\n",
       "      <td>1</td>\n",
       "      <td>0</td>\n",
       "      <td>S</td>\n",
       "      <td>?</td>\n",
       "    </tr>\n",
       "    <tr>\n",
       "      <th>1</th>\n",
       "      <td>1</td>\n",
       "      <td>female</td>\n",
       "      <td>30</td>\n",
       "      <td>1</td>\n",
       "      <td>0</td>\n",
       "      <td>C</td>\n",
       "      <td>C</td>\n",
       "    </tr>\n",
       "    <tr>\n",
       "      <th>2</th>\n",
       "      <td>3</td>\n",
       "      <td>female</td>\n",
       "      <td>20</td>\n",
       "      <td>0</td>\n",
       "      <td>0</td>\n",
       "      <td>S</td>\n",
       "      <td>?</td>\n",
       "    </tr>\n",
       "    <tr>\n",
       "      <th>3</th>\n",
       "      <td>1</td>\n",
       "      <td>female</td>\n",
       "      <td>30</td>\n",
       "      <td>1</td>\n",
       "      <td>0</td>\n",
       "      <td>S</td>\n",
       "      <td>C</td>\n",
       "    </tr>\n",
       "    <tr>\n",
       "      <th>4</th>\n",
       "      <td>3</td>\n",
       "      <td>male</td>\n",
       "      <td>30</td>\n",
       "      <td>0</td>\n",
       "      <td>0</td>\n",
       "      <td>S</td>\n",
       "      <td>?</td>\n",
       "    </tr>\n",
       "  </tbody>\n",
       "</table>\n",
       "</div>"
      ],
      "text/plain": [
       "  Pclass     Sex Age SibSp Parch Embarked CabinLetter\n",
       "0      3    male  20     1     0        S           ?\n",
       "1      1  female  30     1     0        C           C\n",
       "2      3  female  20     0     0        S           ?\n",
       "3      1  female  30     1     0        S           C\n",
       "4      3    male  30     0     0        S           ?"
      ]
     },
     "execution_count": 7,
     "metadata": {},
     "output_type": "execute_result"
    }
   ],
   "source": [
    "X2 = X.drop(columns='Fare')\n",
    "X2.head()"
   ]
  },
  {
   "cell_type": "code",
   "execution_count": 8,
   "metadata": {},
   "outputs": [
    {
     "data": {
      "text/plain": [
       "0     7.2500\n",
       "1    71.2833\n",
       "2     7.9250\n",
       "3    53.1000\n",
       "4     8.0500\n",
       "Name: Fare, dtype: float64"
      ]
     },
     "execution_count": 8,
     "metadata": {},
     "output_type": "execute_result"
    }
   ],
   "source": [
    "t = X['Fare']\n",
    "t.head()"
   ]
  },
  {
   "cell_type": "code",
   "execution_count": 52,
   "metadata": {},
   "outputs": [],
   "source": [
    "from sklearn.model_selection import train_test_split\n",
    "X_train, X_test, t_train, t_test = train_test_split(X2, t, test_size=0.33, random_state=42)\n",
    "\n",
    "pd.DataFrame(X_train).to_csv(\"X_train.csv\")\n",
    "pd.DataFrame(X_test).to_csv(\"X_test.csv\")\n",
    "pd.DataFrame(t_train).to_csv(\"t_train.csv\")\n",
    "pd.DataFrame(t_test).to_csv(\"t_test.csv\")"
   ]
  },
  {
   "cell_type": "code",
   "execution_count": 10,
   "metadata": {},
   "outputs": [],
   "source": [
    "from sklearn.metrics import mean_absolute_error"
   ]
  },
  {
   "cell_type": "code",
   "execution_count": 11,
   "metadata": {},
   "outputs": [],
   "source": [
    "results = [] # Example: {'Method':,'Train MAE':, 'Test MAE':}"
   ]
  },
  {
   "cell_type": "code",
   "execution_count": 27,
   "metadata": {},
   "outputs": [
    {
     "data": {
      "text/html": [
       "<div>\n",
       "<style scoped>\n",
       "    .dataframe tbody tr th:only-of-type {\n",
       "        vertical-align: middle;\n",
       "    }\n",
       "\n",
       "    .dataframe tbody tr th {\n",
       "        vertical-align: top;\n",
       "    }\n",
       "\n",
       "    .dataframe thead th {\n",
       "        text-align: right;\n",
       "    }\n",
       "</style>\n",
       "<table border=\"1\" class=\"dataframe\">\n",
       "  <thead>\n",
       "    <tr style=\"text-align: right;\">\n",
       "      <th></th>\n",
       "      <th>Method</th>\n",
       "      <th>Train MAE</th>\n",
       "      <th>Test MAE</th>\n",
       "    </tr>\n",
       "  </thead>\n",
       "  <tbody>\n",
       "    <tr>\n",
       "      <th>0</th>\n",
       "      <td>MeanRegressor</td>\n",
       "      <td>29.072397</td>\n",
       "      <td>27.099761</td>\n",
       "    </tr>\n",
       "    <tr>\n",
       "      <th>1</th>\n",
       "      <td>StumpRegressor</td>\n",
       "      <td>19.839588</td>\n",
       "      <td>17.972227</td>\n",
       "    </tr>\n",
       "    <tr>\n",
       "      <th>2</th>\n",
       "      <td>BaggingMeanRegressor 10</td>\n",
       "      <td>29.409289</td>\n",
       "      <td>27.441958</td>\n",
       "    </tr>\n",
       "    <tr>\n",
       "      <th>3</th>\n",
       "      <td>BaggingStumpRegressor 10</td>\n",
       "      <td>19.907215</td>\n",
       "      <td>17.984370</td>\n",
       "    </tr>\n",
       "    <tr>\n",
       "      <th>4</th>\n",
       "      <td>BaggingStumpRegressor 100</td>\n",
       "      <td>19.783660</td>\n",
       "      <td>17.875548</td>\n",
       "    </tr>\n",
       "    <tr>\n",
       "      <th>5</th>\n",
       "      <td>BaggingStumpRegressor 100</td>\n",
       "      <td>78.824762</td>\n",
       "      <td>77.179592</td>\n",
       "    </tr>\n",
       "    <tr>\n",
       "      <th>6</th>\n",
       "      <td>MeanRegressor</td>\n",
       "      <td>29.072397</td>\n",
       "      <td>27.099761</td>\n",
       "    </tr>\n",
       "    <tr>\n",
       "      <th>7</th>\n",
       "      <td>MeanRegressor</td>\n",
       "      <td>29.072397</td>\n",
       "      <td>27.099761</td>\n",
       "    </tr>\n",
       "    <tr>\n",
       "      <th>8</th>\n",
       "      <td>MeanRegressor</td>\n",
       "      <td>29.072397</td>\n",
       "      <td>27.099761</td>\n",
       "    </tr>\n",
       "    <tr>\n",
       "      <th>9</th>\n",
       "      <td>MeanRegressor</td>\n",
       "      <td>29.072397</td>\n",
       "      <td>27.099761</td>\n",
       "    </tr>\n",
       "  </tbody>\n",
       "</table>\n",
       "</div>"
      ],
      "text/plain": [
       "                      Method  Train MAE   Test MAE\n",
       "0              MeanRegressor  29.072397  27.099761\n",
       "1             StumpRegressor  19.839588  17.972227\n",
       "2    BaggingMeanRegressor 10  29.409289  27.441958\n",
       "3   BaggingStumpRegressor 10  19.907215  17.984370\n",
       "4  BaggingStumpRegressor 100  19.783660  17.875548\n",
       "5  BaggingStumpRegressor 100  78.824762  77.179592\n",
       "6              MeanRegressor  29.072397  27.099761\n",
       "7              MeanRegressor  29.072397  27.099761\n",
       "8              MeanRegressor  29.072397  27.099761\n",
       "9              MeanRegressor  29.072397  27.099761"
      ]
     },
     "execution_count": 27,
     "metadata": {},
     "output_type": "execute_result"
    }
   ],
   "source": [
    "reg = py566.base.MeanRegressor()\n",
    "reg.fit(X_train,t_train)\n",
    "results.append({'Method':'MeanRegressor',\n",
    "                'Train MAE':mean_absolute_error(t_train,reg.predict(X_train)),\n",
    "                'Test MAE':mean_absolute_error(t_test,reg.predict(X_test))})\n",
    "pd.DataFrame(results)"
   ]
  },
  {
   "cell_type": "code",
   "execution_count": 13,
   "metadata": {},
   "outputs": [
    {
     "data": {
      "text/html": [
       "<div>\n",
       "<style scoped>\n",
       "    .dataframe tbody tr th:only-of-type {\n",
       "        vertical-align: middle;\n",
       "    }\n",
       "\n",
       "    .dataframe tbody tr th {\n",
       "        vertical-align: top;\n",
       "    }\n",
       "\n",
       "    .dataframe thead th {\n",
       "        text-align: right;\n",
       "    }\n",
       "</style>\n",
       "<table border=\"1\" class=\"dataframe\">\n",
       "  <thead>\n",
       "    <tr style=\"text-align: right;\">\n",
       "      <th></th>\n",
       "      <th>Pclass</th>\n",
       "      <th>Sex</th>\n",
       "      <th>Age</th>\n",
       "      <th>SibSp</th>\n",
       "      <th>Parch</th>\n",
       "      <th>Embarked</th>\n",
       "      <th>CabinLetter</th>\n",
       "    </tr>\n",
       "  </thead>\n",
       "  <tbody>\n",
       "    <tr>\n",
       "      <th>6</th>\n",
       "      <td>1</td>\n",
       "      <td>male</td>\n",
       "      <td>50</td>\n",
       "      <td>0</td>\n",
       "      <td>0</td>\n",
       "      <td>S</td>\n",
       "      <td>E</td>\n",
       "    </tr>\n",
       "    <tr>\n",
       "      <th>576</th>\n",
       "      <td>2</td>\n",
       "      <td>female</td>\n",
       "      <td>30</td>\n",
       "      <td>0</td>\n",
       "      <td>0</td>\n",
       "      <td>S</td>\n",
       "      <td>?</td>\n",
       "    </tr>\n",
       "    <tr>\n",
       "      <th>445</th>\n",
       "      <td>1</td>\n",
       "      <td>male</td>\n",
       "      <td>0</td>\n",
       "      <td>0</td>\n",
       "      <td>2</td>\n",
       "      <td>S</td>\n",
       "      <td>A</td>\n",
       "    </tr>\n",
       "    <tr>\n",
       "      <th>74</th>\n",
       "      <td>3</td>\n",
       "      <td>male</td>\n",
       "      <td>30</td>\n",
       "      <td>0</td>\n",
       "      <td>0</td>\n",
       "      <td>S</td>\n",
       "      <td>?</td>\n",
       "    </tr>\n",
       "    <tr>\n",
       "      <th>670</th>\n",
       "      <td>2</td>\n",
       "      <td>female</td>\n",
       "      <td>40</td>\n",
       "      <td>1</td>\n",
       "      <td>1</td>\n",
       "      <td>S</td>\n",
       "      <td>?</td>\n",
       "    </tr>\n",
       "    <tr>\n",
       "      <th>...</th>\n",
       "      <td>...</td>\n",
       "      <td>...</td>\n",
       "      <td>...</td>\n",
       "      <td>...</td>\n",
       "      <td>...</td>\n",
       "      <td>...</td>\n",
       "      <td>...</td>\n",
       "    </tr>\n",
       "    <tr>\n",
       "      <th>107</th>\n",
       "      <td>3</td>\n",
       "      <td>male</td>\n",
       "      <td>20</td>\n",
       "      <td>0</td>\n",
       "      <td>0</td>\n",
       "      <td>S</td>\n",
       "      <td>?</td>\n",
       "    </tr>\n",
       "    <tr>\n",
       "      <th>271</th>\n",
       "      <td>3</td>\n",
       "      <td>male</td>\n",
       "      <td>20</td>\n",
       "      <td>0</td>\n",
       "      <td>0</td>\n",
       "      <td>S</td>\n",
       "      <td>?</td>\n",
       "    </tr>\n",
       "    <tr>\n",
       "      <th>862</th>\n",
       "      <td>1</td>\n",
       "      <td>female</td>\n",
       "      <td>40</td>\n",
       "      <td>0</td>\n",
       "      <td>0</td>\n",
       "      <td>S</td>\n",
       "      <td>D</td>\n",
       "    </tr>\n",
       "    <tr>\n",
       "      <th>436</th>\n",
       "      <td>3</td>\n",
       "      <td>female</td>\n",
       "      <td>20</td>\n",
       "      <td>2</td>\n",
       "      <td>2</td>\n",
       "      <td>S</td>\n",
       "      <td>?</td>\n",
       "    </tr>\n",
       "    <tr>\n",
       "      <th>103</th>\n",
       "      <td>3</td>\n",
       "      <td>male</td>\n",
       "      <td>30</td>\n",
       "      <td>0</td>\n",
       "      <td>0</td>\n",
       "      <td>S</td>\n",
       "      <td>?</td>\n",
       "    </tr>\n",
       "  </tbody>\n",
       "</table>\n",
       "<p>595 rows × 7 columns</p>\n",
       "</div>"
      ],
      "text/plain": [
       "    Pclass     Sex Age SibSp Parch Embarked CabinLetter\n",
       "6        1    male  50     0     0        S           E\n",
       "576      2  female  30     0     0        S           ?\n",
       "445      1    male   0     0     2        S           A\n",
       "74       3    male  30     0     0        S           ?\n",
       "670      2  female  40     1     1        S           ?\n",
       "..     ...     ...  ..   ...   ...      ...         ...\n",
       "107      3    male  20     0     0        S           ?\n",
       "271      3    male  20     0     0        S           ?\n",
       "862      1  female  40     0     0        S           D\n",
       "436      3  female  20     2     2        S           ?\n",
       "103      3    male  30     0     0        S           ?\n",
       "\n",
       "[595 rows x 7 columns]"
      ]
     },
     "metadata": {},
     "output_type": "display_data"
    },
    {
     "data": {
      "text/plain": [
       "6      51.8625\n",
       "576    13.0000\n",
       "445    81.8583\n",
       "74     56.4958\n",
       "670    39.0000\n",
       "        ...   \n",
       "107     7.7750\n",
       "271     0.0000\n",
       "862    25.9292\n",
       "436    34.3750\n",
       "103     8.6542\n",
       "Name: Fare, Length: 595, dtype: float64"
      ]
     },
     "metadata": {},
     "output_type": "display_data"
    }
   ],
   "source": [
    "display(X_train, t_train)"
   ]
  },
  {
   "cell_type": "markdown",
   "metadata": {},
   "source": [
    "**Stump Regressor**"
   ]
  },
  {
   "cell_type": "code",
   "execution_count": 14,
   "metadata": {},
   "outputs": [
    {
     "data": {
      "text/html": [
       "<div>\n",
       "<style scoped>\n",
       "    .dataframe tbody tr th:only-of-type {\n",
       "        vertical-align: middle;\n",
       "    }\n",
       "\n",
       "    .dataframe tbody tr th {\n",
       "        vertical-align: top;\n",
       "    }\n",
       "\n",
       "    .dataframe thead th {\n",
       "        text-align: right;\n",
       "    }\n",
       "</style>\n",
       "<table border=\"1\" class=\"dataframe\">\n",
       "  <thead>\n",
       "    <tr style=\"text-align: right;\">\n",
       "      <th></th>\n",
       "      <th>Method</th>\n",
       "      <th>Train MAE</th>\n",
       "      <th>Test MAE</th>\n",
       "    </tr>\n",
       "  </thead>\n",
       "  <tbody>\n",
       "    <tr>\n",
       "      <th>0</th>\n",
       "      <td>MeanRegressor</td>\n",
       "      <td>29.072397</td>\n",
       "      <td>27.099761</td>\n",
       "    </tr>\n",
       "    <tr>\n",
       "      <th>1</th>\n",
       "      <td>StumpRegressor</td>\n",
       "      <td>19.839588</td>\n",
       "      <td>17.972227</td>\n",
       "    </tr>\n",
       "  </tbody>\n",
       "</table>\n",
       "</div>"
      ],
      "text/plain": [
       "           Method  Train MAE   Test MAE\n",
       "0   MeanRegressor  29.072397  27.099761\n",
       "1  StumpRegressor  19.839588  17.972227"
      ]
     },
     "execution_count": 14,
     "metadata": {},
     "output_type": "execute_result"
    }
   ],
   "source": [
    "reg = py566.tree.StumpRegressor()\n",
    "reg.fit(X_train,t_train)\n",
    "results.append({'Method':'StumpRegressor',\n",
    "                'Train MAE':mean_absolute_error(t_train,reg.predict(X_train)),\n",
    "                'Test MAE':mean_absolute_error(t_test,reg.predict(X_test))})\n",
    "pd.DataFrame(results)"
   ]
  },
  {
   "cell_type": "markdown",
   "metadata": {},
   "source": [
    "**Bagging**"
   ]
  },
  {
   "cell_type": "code",
   "execution_count": 29,
   "metadata": {},
   "outputs": [
    {
     "data": {
      "text/html": [
       "<div>\n",
       "<style scoped>\n",
       "    .dataframe tbody tr th:only-of-type {\n",
       "        vertical-align: middle;\n",
       "    }\n",
       "\n",
       "    .dataframe tbody tr th {\n",
       "        vertical-align: top;\n",
       "    }\n",
       "\n",
       "    .dataframe thead th {\n",
       "        text-align: right;\n",
       "    }\n",
       "</style>\n",
       "<table border=\"1\" class=\"dataframe\">\n",
       "  <thead>\n",
       "    <tr style=\"text-align: right;\">\n",
       "      <th></th>\n",
       "      <th>Method</th>\n",
       "      <th>Train MAE</th>\n",
       "      <th>Test MAE</th>\n",
       "    </tr>\n",
       "  </thead>\n",
       "  <tbody>\n",
       "    <tr>\n",
       "      <th>0</th>\n",
       "      <td>MeanRegressor</td>\n",
       "      <td>29.072397</td>\n",
       "      <td>27.099761</td>\n",
       "    </tr>\n",
       "    <tr>\n",
       "      <th>1</th>\n",
       "      <td>StumpRegressor</td>\n",
       "      <td>19.839588</td>\n",
       "      <td>17.972227</td>\n",
       "    </tr>\n",
       "    <tr>\n",
       "      <th>2</th>\n",
       "      <td>BaggingMeanRegressor 10</td>\n",
       "      <td>29.409289</td>\n",
       "      <td>27.441958</td>\n",
       "    </tr>\n",
       "    <tr>\n",
       "      <th>3</th>\n",
       "      <td>BaggingStumpRegressor 10</td>\n",
       "      <td>19.907215</td>\n",
       "      <td>17.984370</td>\n",
       "    </tr>\n",
       "    <tr>\n",
       "      <th>4</th>\n",
       "      <td>BaggingStumpRegressor 100</td>\n",
       "      <td>19.783660</td>\n",
       "      <td>17.875548</td>\n",
       "    </tr>\n",
       "    <tr>\n",
       "      <th>5</th>\n",
       "      <td>BaggingStumpRegressor 100</td>\n",
       "      <td>78.824762</td>\n",
       "      <td>77.179592</td>\n",
       "    </tr>\n",
       "    <tr>\n",
       "      <th>6</th>\n",
       "      <td>MeanRegressor</td>\n",
       "      <td>29.072397</td>\n",
       "      <td>27.099761</td>\n",
       "    </tr>\n",
       "    <tr>\n",
       "      <th>7</th>\n",
       "      <td>MeanRegressor</td>\n",
       "      <td>29.072397</td>\n",
       "      <td>27.099761</td>\n",
       "    </tr>\n",
       "    <tr>\n",
       "      <th>8</th>\n",
       "      <td>MeanRegressor</td>\n",
       "      <td>29.072397</td>\n",
       "      <td>27.099761</td>\n",
       "    </tr>\n",
       "    <tr>\n",
       "      <th>9</th>\n",
       "      <td>MeanRegressor</td>\n",
       "      <td>29.072397</td>\n",
       "      <td>27.099761</td>\n",
       "    </tr>\n",
       "    <tr>\n",
       "      <th>10</th>\n",
       "      <td>BaggingMeanRegressor 10</td>\n",
       "      <td>29.409289</td>\n",
       "      <td>27.441958</td>\n",
       "    </tr>\n",
       "    <tr>\n",
       "      <th>11</th>\n",
       "      <td>BaggingMeanRegressor 10</td>\n",
       "      <td>29.409289</td>\n",
       "      <td>27.441958</td>\n",
       "    </tr>\n",
       "  </tbody>\n",
       "</table>\n",
       "</div>"
      ],
      "text/plain": [
       "                       Method  Train MAE   Test MAE\n",
       "0               MeanRegressor  29.072397  27.099761\n",
       "1              StumpRegressor  19.839588  17.972227\n",
       "2     BaggingMeanRegressor 10  29.409289  27.441958\n",
       "3    BaggingStumpRegressor 10  19.907215  17.984370\n",
       "4   BaggingStumpRegressor 100  19.783660  17.875548\n",
       "5   BaggingStumpRegressor 100  78.824762  77.179592\n",
       "6               MeanRegressor  29.072397  27.099761\n",
       "7               MeanRegressor  29.072397  27.099761\n",
       "8               MeanRegressor  29.072397  27.099761\n",
       "9               MeanRegressor  29.072397  27.099761\n",
       "10    BaggingMeanRegressor 10  29.409289  27.441958\n",
       "11    BaggingMeanRegressor 10  29.409289  27.441958"
      ]
     },
     "execution_count": 29,
     "metadata": {},
     "output_type": "execute_result"
    }
   ],
   "source": [
    "reg = py566.ensemble.BaggingRegressor()\n",
    "reg.fit(X_train,t_train)\n",
    "results.append({'Method':'BaggingMeanRegressor 10',\n",
    "                'Train MAE':mean_absolute_error(t_train,reg.predict(X_train)),\n",
    "                'Test MAE':mean_absolute_error(t_test,reg.predict(X_test))})\n",
    "pd.DataFrame(results)"
   ]
  },
  {
   "cell_type": "code",
   "execution_count": 16,
   "metadata": {},
   "outputs": [
    {
     "data": {
      "text/html": [
       "<div>\n",
       "<style scoped>\n",
       "    .dataframe tbody tr th:only-of-type {\n",
       "        vertical-align: middle;\n",
       "    }\n",
       "\n",
       "    .dataframe tbody tr th {\n",
       "        vertical-align: top;\n",
       "    }\n",
       "\n",
       "    .dataframe thead th {\n",
       "        text-align: right;\n",
       "    }\n",
       "</style>\n",
       "<table border=\"1\" class=\"dataframe\">\n",
       "  <thead>\n",
       "    <tr style=\"text-align: right;\">\n",
       "      <th></th>\n",
       "      <th>Method</th>\n",
       "      <th>Train MAE</th>\n",
       "      <th>Test MAE</th>\n",
       "    </tr>\n",
       "  </thead>\n",
       "  <tbody>\n",
       "    <tr>\n",
       "      <th>0</th>\n",
       "      <td>MeanRegressor</td>\n",
       "      <td>29.072397</td>\n",
       "      <td>27.099761</td>\n",
       "    </tr>\n",
       "    <tr>\n",
       "      <th>1</th>\n",
       "      <td>StumpRegressor</td>\n",
       "      <td>19.839588</td>\n",
       "      <td>17.972227</td>\n",
       "    </tr>\n",
       "    <tr>\n",
       "      <th>2</th>\n",
       "      <td>BaggingMeanRegressor 10</td>\n",
       "      <td>29.409289</td>\n",
       "      <td>27.441958</td>\n",
       "    </tr>\n",
       "    <tr>\n",
       "      <th>3</th>\n",
       "      <td>BaggingStumpRegressor 10</td>\n",
       "      <td>19.907215</td>\n",
       "      <td>17.984370</td>\n",
       "    </tr>\n",
       "  </tbody>\n",
       "</table>\n",
       "</div>"
      ],
      "text/plain": [
       "                     Method  Train MAE   Test MAE\n",
       "0             MeanRegressor  29.072397  27.099761\n",
       "1            StumpRegressor  19.839588  17.972227\n",
       "2   BaggingMeanRegressor 10  29.409289  27.441958\n",
       "3  BaggingStumpRegressor 10  19.907215  17.984370"
      ]
     },
     "execution_count": 16,
     "metadata": {},
     "output_type": "execute_result"
    }
   ],
   "source": [
    "reg = py566.ensemble.BaggingRegressor(get_learner_func=lambda: py566.tree.StumpRegressor())\n",
    "reg.fit(X_train,t_train)\n",
    "results.append({'Method':'BaggingStumpRegressor 10',\n",
    "                'Train MAE':mean_absolute_error(t_train,reg.predict(X_train)),\n",
    "                'Test MAE':mean_absolute_error(t_test,reg.predict(X_test))})\n",
    "pd.DataFrame(results)"
   ]
  },
  {
   "cell_type": "code",
   "execution_count": 17,
   "metadata": {},
   "outputs": [
    {
     "data": {
      "text/html": [
       "<div>\n",
       "<style scoped>\n",
       "    .dataframe tbody tr th:only-of-type {\n",
       "        vertical-align: middle;\n",
       "    }\n",
       "\n",
       "    .dataframe tbody tr th {\n",
       "        vertical-align: top;\n",
       "    }\n",
       "\n",
       "    .dataframe thead th {\n",
       "        text-align: right;\n",
       "    }\n",
       "</style>\n",
       "<table border=\"1\" class=\"dataframe\">\n",
       "  <thead>\n",
       "    <tr style=\"text-align: right;\">\n",
       "      <th></th>\n",
       "      <th>Method</th>\n",
       "      <th>Train MAE</th>\n",
       "      <th>Test MAE</th>\n",
       "    </tr>\n",
       "  </thead>\n",
       "  <tbody>\n",
       "    <tr>\n",
       "      <th>0</th>\n",
       "      <td>MeanRegressor</td>\n",
       "      <td>29.072397</td>\n",
       "      <td>27.099761</td>\n",
       "    </tr>\n",
       "    <tr>\n",
       "      <th>1</th>\n",
       "      <td>StumpRegressor</td>\n",
       "      <td>19.839588</td>\n",
       "      <td>17.972227</td>\n",
       "    </tr>\n",
       "    <tr>\n",
       "      <th>2</th>\n",
       "      <td>BaggingMeanRegressor 10</td>\n",
       "      <td>29.409289</td>\n",
       "      <td>27.441958</td>\n",
       "    </tr>\n",
       "    <tr>\n",
       "      <th>3</th>\n",
       "      <td>BaggingStumpRegressor 10</td>\n",
       "      <td>19.907215</td>\n",
       "      <td>17.984370</td>\n",
       "    </tr>\n",
       "    <tr>\n",
       "      <th>4</th>\n",
       "      <td>BaggingStumpRegressor 100</td>\n",
       "      <td>19.783660</td>\n",
       "      <td>17.875548</td>\n",
       "    </tr>\n",
       "  </tbody>\n",
       "</table>\n",
       "</div>"
      ],
      "text/plain": [
       "                      Method  Train MAE   Test MAE\n",
       "0              MeanRegressor  29.072397  27.099761\n",
       "1             StumpRegressor  19.839588  17.972227\n",
       "2    BaggingMeanRegressor 10  29.409289  27.441958\n",
       "3   BaggingStumpRegressor 10  19.907215  17.984370\n",
       "4  BaggingStumpRegressor 100  19.783660  17.875548"
      ]
     },
     "execution_count": 17,
     "metadata": {},
     "output_type": "execute_result"
    }
   ],
   "source": [
    "reg = py566.ensemble.BaggingRegressor(ntrees=100,get_learner_func=lambda: py566.tree.StumpRegressor())\n",
    "reg.fit(X_train,t_train)\n",
    "results.append({'Method':'BaggingStumpRegressor 100',\n",
    "                'Train MAE':mean_absolute_error(t_train,reg.predict(X_train)),\n",
    "                'Test MAE':mean_absolute_error(t_test,reg.predict(X_test))})\n",
    "pd.DataFrame(results)"
   ]
  },
  {
   "cell_type": "code",
   "execution_count": null,
   "metadata": {},
   "outputs": [
    {
     "name": "stdout",
     "output_type": "stream",
     "text": [
      "xy     Pclass     Sex Age SibSp Parch Embarked CabinLetter\n",
      "6        1    male  50     0     0        S           E\n",
      "576      2  female  30     0     0        S           ?\n",
      "445      1    male   0     0     2        S           A\n",
      "74       3    male  30     0     0        S           ?\n",
      "670      2  female  40     1     1        S           ?\n",
      "..     ...     ...  ..   ...   ...      ...         ...\n",
      "107      3    male  20     0     0        S           ?\n",
      "271      3    male  20     0     0        S           ?\n",
      "862      1  female  40     0     0        S           D\n",
      "436      3  female  20     2     2        S           ?\n",
      "103      3    male  30     0     0        S           ?\n",
      "\n",
      "[595 rows x 7 columns] 6      51.8625\n",
      "576    13.0000\n",
      "445    81.8583\n",
      "74     56.4958\n",
      "670    39.0000\n",
      "        ...   \n",
      "107     7.7750\n",
      "271     0.0000\n",
      "862    25.9292\n",
      "436    34.3750\n",
      "103     8.6542\n",
      "Name: Fare, Length: 595, dtype: float64\n"
     ]
    },
    {
     "name": "stderr",
     "output_type": "stream",
     "text": [
      "\u001b[2m\u001b[36m(fit_one_tree pid=7165)\u001b[0m 2023-01-20 12:56:00,019\tERROR serialization.py:371 -- No module named 'py566'"
     ]
    },
    {
     "ename": "RayTaskError",
     "evalue": "\u001b[36mray::fit_one_tree()\u001b[39m (pid=7160, ip=127.0.0.1)\n  At least one of the input arguments for this task could not be computed:\nray.exceptions.RaySystemError: System error: No module named 'py566'\ntraceback: Traceback (most recent call last):\nModuleNotFoundError: No module named 'py566'",
     "output_type": "error",
     "traceback": [
      "\u001b[0;31m---------------------------------------------------------------------------\u001b[0m",
      "\u001b[0;31mRayTaskError\u001b[0m                              Traceback (most recent call last)",
      "Cell \u001b[0;32mIn[21], line 5\u001b[0m\n\u001b[1;32m      2\u001b[0m reg \u001b[39m=\u001b[39m py566\u001b[39m.\u001b[39mensemble_parallel\u001b[39m.\u001b[39mBaggingRegressor(ntrees\u001b[39m=\u001b[39m\u001b[39m10\u001b[39m,get_learner_func\u001b[39m=\u001b[39m\u001b[39mlambda\u001b[39;00m: py566\u001b[39m.\u001b[39mtree\u001b[39m.\u001b[39mStumpRegressor())\n\u001b[1;32m      3\u001b[0m \u001b[39mfrom\u001b[39;00m \u001b[39mpy566\u001b[39;00m\u001b[39m.\u001b[39;00m\u001b[39mensemble_parallel\u001b[39;00m \u001b[39mimport\u001b[39;00m fit\n\u001b[0;32m----> 5\u001b[0m fit(X_train,t_train)\n\u001b[1;32m      7\u001b[0m results\u001b[39m.\u001b[39mappend({\u001b[39m'\u001b[39m\u001b[39mMethod\u001b[39m\u001b[39m'\u001b[39m:\u001b[39m'\u001b[39m\u001b[39mBaggingStumpRegressor 100\u001b[39m\u001b[39m'\u001b[39m,\n\u001b[1;32m      8\u001b[0m                 \u001b[39m'\u001b[39m\u001b[39mTrain MAE\u001b[39m\u001b[39m'\u001b[39m:mean_absolute_error(t_train,reg\u001b[39m.\u001b[39mpredict(X_train)),\n\u001b[1;32m      9\u001b[0m                 \u001b[39m'\u001b[39m\u001b[39mTest MAE\u001b[39m\u001b[39m'\u001b[39m:mean_absolute_error(t_test,reg\u001b[39m.\u001b[39mpredict(X_test))})\n\u001b[1;32m     10\u001b[0m pd\u001b[39m.\u001b[39mDataFrame(results)\n",
      "File \u001b[0;32m~/Desktop/566/csc-566-student/chapters/../py566/ensemble_parallel.py:35\u001b[0m, in \u001b[0;36mfit\u001b[0;34m(X, y)\u001b[0m\n\u001b[1;32m     32\u001b[0m \u001b[39mprint\u001b[39m(\u001b[39m\"\u001b[39m\u001b[39mxy\u001b[39m\u001b[39m\"\u001b[39m, X, y)\n\u001b[1;32m     34\u001b[0m trained_trees \u001b[39m=\u001b[39m [fit_one_tree\u001b[39m.\u001b[39mremote(X, y, seed \u001b[39m=\u001b[39m\u001b[39m42\u001b[39m, model\u001b[39m=\u001b[39mget_learner_example) \u001b[39mfor\u001b[39;00m i \u001b[39min\u001b[39;00m \u001b[39mrange\u001b[39m(\u001b[39m5\u001b[39m)]\n\u001b[0;32m---> 35\u001b[0m ensemble_trees \u001b[39m=\u001b[39m ray\u001b[39m.\u001b[39;49mget(trained_trees)\n\u001b[1;32m     37\u001b[0m \u001b[39mreturn\u001b[39;00m ensemble_trees\n",
      "File \u001b[0;32m~/Desktop/566/.venv/lib/python3.9/site-packages/ray/_private/client_mode_hook.py:105\u001b[0m, in \u001b[0;36mclient_mode_hook.<locals>.wrapper\u001b[0;34m(*args, **kwargs)\u001b[0m\n\u001b[1;32m    103\u001b[0m     \u001b[39mif\u001b[39;00m func\u001b[39m.\u001b[39m\u001b[39m__name__\u001b[39m \u001b[39m!=\u001b[39m \u001b[39m\"\u001b[39m\u001b[39minit\u001b[39m\u001b[39m\"\u001b[39m \u001b[39mor\u001b[39;00m is_client_mode_enabled_by_default:\n\u001b[1;32m    104\u001b[0m         \u001b[39mreturn\u001b[39;00m \u001b[39mgetattr\u001b[39m(ray, func\u001b[39m.\u001b[39m\u001b[39m__name__\u001b[39m)(\u001b[39m*\u001b[39margs, \u001b[39m*\u001b[39m\u001b[39m*\u001b[39mkwargs)\n\u001b[0;32m--> 105\u001b[0m \u001b[39mreturn\u001b[39;00m func(\u001b[39m*\u001b[39;49margs, \u001b[39m*\u001b[39;49m\u001b[39m*\u001b[39;49mkwargs)\n",
      "File \u001b[0;32m~/Desktop/566/.venv/lib/python3.9/site-packages/ray/_private/worker.py:2309\u001b[0m, in \u001b[0;36mget\u001b[0;34m(object_refs, timeout)\u001b[0m\n\u001b[1;32m   2307\u001b[0m     worker\u001b[39m.\u001b[39mcore_worker\u001b[39m.\u001b[39mdump_object_store_memory_usage()\n\u001b[1;32m   2308\u001b[0m \u001b[39mif\u001b[39;00m \u001b[39misinstance\u001b[39m(value, RayTaskError):\n\u001b[0;32m-> 2309\u001b[0m     \u001b[39mraise\u001b[39;00m value\u001b[39m.\u001b[39mas_instanceof_cause()\n\u001b[1;32m   2310\u001b[0m \u001b[39melse\u001b[39;00m:\n\u001b[1;32m   2311\u001b[0m     \u001b[39mraise\u001b[39;00m value\n",
      "\u001b[0;31mRayTaskError\u001b[0m: \u001b[36mray::fit_one_tree()\u001b[39m (pid=7160, ip=127.0.0.1)\n  At least one of the input arguments for this task could not be computed:\nray.exceptions.RaySystemError: System error: No module named 'py566'\ntraceback: Traceback (most recent call last):\nModuleNotFoundError: No module named 'py566'"
     ]
    },
    {
     "name": "stderr",
     "output_type": "stream",
     "text": [
      "\n",
      "\u001b[2m\u001b[36m(fit_one_tree pid=7165)\u001b[0m Traceback (most recent call last):\n",
      "\u001b[2m\u001b[36m(fit_one_tree pid=7165)\u001b[0m   File \"/Users/MichaelMoschitto/Desktop/566/.venv/lib/python3.9/site-packages/ray/_private/serialization.py\", line 369, in deserialize_objects\n",
      "\u001b[2m\u001b[36m(fit_one_tree pid=7165)\u001b[0m     obj = self._deserialize_object(data, metadata, object_ref)\n",
      "\u001b[2m\u001b[36m(fit_one_tree pid=7165)\u001b[0m   File \"/Users/MichaelMoschitto/Desktop/566/.venv/lib/python3.9/site-packages/ray/_private/serialization.py\", line 252, in _deserialize_object\n",
      "\u001b[2m\u001b[36m(fit_one_tree pid=7165)\u001b[0m     return self._deserialize_msgpack_data(data, metadata_fields)\n",
      "\u001b[2m\u001b[36m(fit_one_tree pid=7165)\u001b[0m   File \"/Users/MichaelMoschitto/Desktop/566/.venv/lib/python3.9/site-packages/ray/_private/serialization.py\", line 207, in _deserialize_msgpack_data\n",
      "\u001b[2m\u001b[36m(fit_one_tree pid=7165)\u001b[0m     python_objects = self._deserialize_pickle5_data(pickle5_data)\n",
      "\u001b[2m\u001b[36m(fit_one_tree pid=7165)\u001b[0m   File \"/Users/MichaelMoschitto/Desktop/566/.venv/lib/python3.9/site-packages/ray/_private/serialization.py\", line 197, in _deserialize_pickle5_data\n",
      "\u001b[2m\u001b[36m(fit_one_tree pid=7165)\u001b[0m     obj = pickle.loads(in_band)\n",
      "\u001b[2m\u001b[36m(fit_one_tree pid=7165)\u001b[0m ModuleNotFoundError: No module named 'py566'\n",
      "\u001b[2m\u001b[36m(fit_one_tree pid=7160)\u001b[0m 2023-01-20 12:56:00,017\tERROR serialization.py:371 -- No module named 'py566'\n",
      "\u001b[2m\u001b[36m(fit_one_tree pid=7160)\u001b[0m Traceback (most recent call last):\n",
      "\u001b[2m\u001b[36m(fit_one_tree pid=7160)\u001b[0m   File \"/Users/MichaelMoschitto/Desktop/566/.venv/lib/python3.9/site-packages/ray/_private/serialization.py\", line 369, in deserialize_objects\n",
      "\u001b[2m\u001b[36m(fit_one_tree pid=7160)\u001b[0m     obj = self._deserialize_object(data, metadata, object_ref)\n",
      "\u001b[2m\u001b[36m(fit_one_tree pid=7160)\u001b[0m   File \"/Users/MichaelMoschitto/Desktop/566/.venv/lib/python3.9/site-packages/ray/_private/serialization.py\", line 252, in _deserialize_object\n",
      "\u001b[2m\u001b[36m(fit_one_tree pid=7160)\u001b[0m     return self._deserialize_msgpack_data(data, metadata_fields)\n",
      "\u001b[2m\u001b[36m(fit_one_tree pid=7160)\u001b[0m   File \"/Users/MichaelMoschitto/Desktop/566/.venv/lib/python3.9/site-packages/ray/_private/serialization.py\", line 207, in _deserialize_msgpack_data\n",
      "\u001b[2m\u001b[36m(fit_one_tree pid=7160)\u001b[0m     python_objects = self._deserialize_pickle5_data(pickle5_data)\n",
      "\u001b[2m\u001b[36m(fit_one_tree pid=7160)\u001b[0m   File \"/Users/MichaelMoschitto/Desktop/566/.venv/lib/python3.9/site-packages/ray/_private/serialization.py\", line 197, in _deserialize_pickle5_data\n",
      "\u001b[2m\u001b[36m(fit_one_tree pid=7160)\u001b[0m     obj = pickle.loads(in_band)\n",
      "\u001b[2m\u001b[36m(fit_one_tree pid=7160)\u001b[0m ModuleNotFoundError: No module named 'py566'\n",
      "\u001b[2m\u001b[36m(fit_one_tree pid=7160)\u001b[0m 2023-01-20 12:56:00,020\tERROR serialization.py:371 -- No module named 'py566'\n",
      "\u001b[2m\u001b[36m(fit_one_tree pid=7160)\u001b[0m Traceback (most recent call last):\n",
      "\u001b[2m\u001b[36m(fit_one_tree pid=7160)\u001b[0m   File \"/Users/MichaelMoschitto/Desktop/566/.venv/lib/python3.9/site-packages/ray/_private/serialization.py\", line 369, in deserialize_objects\n",
      "\u001b[2m\u001b[36m(fit_one_tree pid=7160)\u001b[0m     obj = self._deserialize_object(data, metadata, object_ref)\n",
      "\u001b[2m\u001b[36m(fit_one_tree pid=7160)\u001b[0m   File \"/Users/MichaelMoschitto/Desktop/566/.venv/lib/python3.9/site-packages/ray/_private/serialization.py\", line 252, in _deserialize_object\n",
      "\u001b[2m\u001b[36m(fit_one_tree pid=7160)\u001b[0m     return self._deserialize_msgpack_data(data, metadata_fields)\n",
      "\u001b[2m\u001b[36m(fit_one_tree pid=7160)\u001b[0m   File \"/Users/MichaelMoschitto/Desktop/566/.venv/lib/python3.9/site-packages/ray/_private/serialization.py\", line 207, in _deserialize_msgpack_data\n",
      "\u001b[2m\u001b[36m(fit_one_tree pid=7160)\u001b[0m     python_objects = self._deserialize_pickle5_data(pickle5_data)\n",
      "\u001b[2m\u001b[36m(fit_one_tree pid=7160)\u001b[0m   File \"/Users/MichaelMoschitto/Desktop/566/.venv/lib/python3.9/site-packages/ray/_private/serialization.py\", line 197, in _deserialize_pickle5_data\n",
      "\u001b[2m\u001b[36m(fit_one_tree pid=7160)\u001b[0m     obj = pickle.loads(in_band)\n",
      "\u001b[2m\u001b[36m(fit_one_tree pid=7160)\u001b[0m ModuleNotFoundError: No module named 'py566'\n",
      "\u001b[2m\u001b[36m(fit_one_tree pid=7163)\u001b[0m 2023-01-20 12:56:00,017\tERROR serialization.py:371 -- No module named 'py566'\n",
      "\u001b[2m\u001b[36m(fit_one_tree pid=7163)\u001b[0m Traceback (most recent call last):\n",
      "\u001b[2m\u001b[36m(fit_one_tree pid=7163)\u001b[0m   File \"/Users/MichaelMoschitto/Desktop/566/.venv/lib/python3.9/site-packages/ray/_private/serialization.py\", line 369, in deserialize_objects\n",
      "\u001b[2m\u001b[36m(fit_one_tree pid=7163)\u001b[0m     obj = self._deserialize_object(data, metadata, object_ref)\n",
      "\u001b[2m\u001b[36m(fit_one_tree pid=7163)\u001b[0m   File \"/Users/MichaelMoschitto/Desktop/566/.venv/lib/python3.9/site-packages/ray/_private/serialization.py\", line 252, in _deserialize_object\n",
      "\u001b[2m\u001b[36m(fit_one_tree pid=7163)\u001b[0m     return self._deserialize_msgpack_data(data, metadata_fields)\n",
      "\u001b[2m\u001b[36m(fit_one_tree pid=7163)\u001b[0m   File \"/Users/MichaelMoschitto/Desktop/566/.venv/lib/python3.9/site-packages/ray/_private/serialization.py\", line 207, in _deserialize_msgpack_data\n",
      "\u001b[2m\u001b[36m(fit_one_tree pid=7163)\u001b[0m     python_objects = self._deserialize_pickle5_data(pickle5_data)\n",
      "\u001b[2m\u001b[36m(fit_one_tree pid=7163)\u001b[0m   File \"/Users/MichaelMoschitto/Desktop/566/.venv/lib/python3.9/site-packages/ray/_private/serialization.py\", line 197, in _deserialize_pickle5_data\n",
      "\u001b[2m\u001b[36m(fit_one_tree pid=7163)\u001b[0m     obj = pickle.loads(in_band)\n",
      "\u001b[2m\u001b[36m(fit_one_tree pid=7163)\u001b[0m ModuleNotFoundError: No module named 'py566'\n",
      "\u001b[2m\u001b[36m(fit_one_tree pid=7161)\u001b[0m 2023-01-20 12:56:00,019\tERROR serialization.py:371 -- No module named 'py566'\n",
      "\u001b[2m\u001b[36m(fit_one_tree pid=7161)\u001b[0m Traceback (most recent call last):\n",
      "\u001b[2m\u001b[36m(fit_one_tree pid=7161)\u001b[0m   File \"/Users/MichaelMoschitto/Desktop/566/.venv/lib/python3.9/site-packages/ray/_private/serialization.py\", line 369, in deserialize_objects\n",
      "\u001b[2m\u001b[36m(fit_one_tree pid=7161)\u001b[0m     obj = self._deserialize_object(data, metadata, object_ref)\n",
      "\u001b[2m\u001b[36m(fit_one_tree pid=7161)\u001b[0m   File \"/Users/MichaelMoschitto/Desktop/566/.venv/lib/python3.9/site-packages/ray/_private/serialization.py\", line 252, in _deserialize_object\n",
      "\u001b[2m\u001b[36m(fit_one_tree pid=7161)\u001b[0m     return self._deserialize_msgpack_data(data, metadata_fields)\n",
      "\u001b[2m\u001b[36m(fit_one_tree pid=7161)\u001b[0m   File \"/Users/MichaelMoschitto/Desktop/566/.venv/lib/python3.9/site-packages/ray/_private/serialization.py\", line 207, in _deserialize_msgpack_data\n",
      "\u001b[2m\u001b[36m(fit_one_tree pid=7161)\u001b[0m     python_objects = self._deserialize_pickle5_data(pickle5_data)\n",
      "\u001b[2m\u001b[36m(fit_one_tree pid=7161)\u001b[0m   File \"/Users/MichaelMoschitto/Desktop/566/.venv/lib/python3.9/site-packages/ray/_private/serialization.py\", line 197, in _deserialize_pickle5_data\n",
      "\u001b[2m\u001b[36m(fit_one_tree pid=7161)\u001b[0m     obj = pickle.loads(in_band)\n",
      "\u001b[2m\u001b[36m(fit_one_tree pid=7161)\u001b[0m ModuleNotFoundError: No module named 'py566'\n"
     ]
    },
    {
     "name": "stderr",
     "output_type": "stream",
     "text": [
      "2023-01-20 12:56:05,988\tERROR worker.py:400 -- Unhandled error (suppress with 'RAY_IGNORE_UNHANDLED_ERRORS=1'): \u001b[36mray::fit_one_tree()\u001b[39m (pid=7163, ip=127.0.0.1)\n",
      "  At least one of the input arguments for this task could not be computed:\n",
      "ray.exceptions.RaySystemError: System error: No module named 'py566'\n",
      "traceback: Traceback (most recent call last):\n",
      "ModuleNotFoundError: No module named 'py566'\n",
      "2023-01-20 12:56:05,990\tERROR worker.py:400 -- Unhandled error (suppress with 'RAY_IGNORE_UNHANDLED_ERRORS=1'): \u001b[36mray::fit_one_tree()\u001b[39m (pid=7161, ip=127.0.0.1)\n",
      "  At least one of the input arguments for this task could not be computed:\n",
      "ray.exceptions.RaySystemError: System error: No module named 'py566'\n",
      "traceback: Traceback (most recent call last):\n",
      "ModuleNotFoundError: No module named 'py566'\n",
      "2023-01-20 12:56:05,991\tERROR worker.py:400 -- Unhandled error (suppress with 'RAY_IGNORE_UNHANDLED_ERRORS=1'): \u001b[36mray::fit_one_tree()\u001b[39m (pid=7165, ip=127.0.0.1)\n",
      "  At least one of the input arguments for this task could not be computed:\n",
      "ray.exceptions.RaySystemError: System error: No module named 'py566'\n",
      "traceback: Traceback (most recent call last):\n",
      "ModuleNotFoundError: No module named 'py566'\n",
      "2023-01-20 12:56:05,992\tERROR worker.py:400 -- Unhandled error (suppress with 'RAY_IGNORE_UNHANDLED_ERRORS=1'): \u001b[36mray::fit_one_tree()\u001b[39m (pid=7160, ip=127.0.0.1)\n",
      "  At least one of the input arguments for this task could not be computed:\n",
      "ray.exceptions.RaySystemError: System error: No module named 'py566'\n",
      "traceback: Traceback (most recent call last):\n",
      "ModuleNotFoundError: No module named 'py566'\n"
     ]
    }
   ],
   "source": [
    "# End of notebook\n",
    "reg = py566.ensemble_parallel.BaggingRegressor(ntrees=10,get_learner_func=lambda: py566.tree.StumpRegressor())\n",
    "from py566.ensemble_parallel import fit\n",
    "\n",
    "fit(X_train,t_train)\n",
    "\n",
    "results.append({'Method':'BaggingStumpRegressor 100',\n",
    "                'Train MAE':mean_absolute_error(t_train,reg.predict(X_train)),\n",
    "                'Test MAE':mean_absolute_error(t_test,reg.predict(X_test))})\n",
    "pd.DataFrame(results)"
   ]
  },
  {
   "attachments": {},
   "cell_type": "markdown",
   "metadata": {},
   "source": [
    "-----\n",
    "Decision Tree\n",
    "\n",
    "## Results\n",
    "\n",
    "Random forest with 100 trees did better than a single tree by precision, accuracy, and f1. Recall was the same. \n",
    "\n",
    "**Decision Tree**<br>\n",
    "precision: 0.711<br>\n",
    "recall: 0.719<br>\n",
    "accuracy: 0.761<br>\n",
    "f1: 0.715<br><br>\n",
    "\n",
    "\n",
    "**Random Forest**<br>\n",
    "precision: 0.735<br>\n",
    "recall: 0.719<br>\n",
    "accuracy: 0.775<br>\n",
    "f1: 0.727<br>"
   ]
  },
  {
   "cell_type": "code",
   "execution_count": 71,
   "metadata": {},
   "outputs": [],
   "source": [
    "def format_data():\n",
    "    features = ['Pclass','Sex','Age','SibSp','Parch','Fare','Cabin','Embarked']\n",
    "    titanic_df2 = titanic_df.loc[:,features]\n",
    "    titanic_df2['CabinLetter'] = titanic_df2['Cabin'].str.slice(0,1)\n",
    "    X = titanic_df2.drop('Cabin',axis=1)#.dropna()\n",
    "    X['CabinLetter'] = X['CabinLetter'].fillna(\"?\")\n",
    "    X['Pclass'] = X['Pclass'].astype(str)\n",
    "    X['SibSp'] = X['SibSp'].astype(str)\n",
    "    X['Parch'] = X['Parch'].astype(str)\n",
    "    X = X.dropna()\n",
    "    X2 = X.copy()\n",
    "    X2['Age'] = pd.cut(X2['Age'],bins=20).astype(str) # bin Age up\n",
    "    X2['Age'].value_counts()\n",
    "    X2['Fare'] = pd.cut(X2['Fare'],bins=20).astype(str) # bin Age up\n",
    "    X2['Fare'].value_counts()\n",
    "    t = titanic_df.loc[X2.index,'Survived']\n",
    "\n",
    "    return X2, t"
   ]
  },
  {
   "cell_type": "code",
   "execution_count": 82,
   "metadata": {},
   "outputs": [],
   "source": [
    "from sklearn.metrics import f1_score, precision_score, recall_score, accuracy_score, confusion_matrix\n",
    "import seaborn as sns\n",
    "def seaborn_conf_matrix(cm):\n",
    "    group_names = [\"True Neg\",\"False Pos\",\"False Neg\",\"True Pos\"]\n",
    "    group_counts = [\"{0:0.0f}\".format(value) for value in cm.flatten()]\n",
    "    group_percentages = [\"{0:.2%}\".format(value) for value in cm.flatten()/np.sum(cm)]\n",
    "    labels = [f\"{v1}\\n{v2}\\n{v3}\" for v1, v2, v3 in zip(group_names,group_counts,group_percentages)]\n",
    "    labels = np.asarray(labels).reshape(2,2)\n",
    "    sns.heatmap(cm, annot=labels, fmt='', cmap='Blues')\n",
    "\n",
    "def print_metrics(y_test, y_pred):\n",
    "    output = f\"\"\"precision: {precision_score(y_test, y_pred)}\\nrecall: {recall_score(y_test, y_pred)}\\naccuracy: {accuracy_score(y_test, y_pred)}\\nf1: {f1_score(y_test, y_pred)}\"\"\"\n",
    "    print(output)\n",
    "\n",
    "\n",
    "def print_all_metrics(y_test, yhat, classifier=True):\n",
    "    print(f'\\n\\n-----MODULE {\"CLASSIFICATION\" if classifier else \"PREDICTION\"} METRICS-----')\n",
    "    if classifier:    \n",
    "        print_metrics(y_test, yhat)\n",
    "        seaborn_conf_matrix(confusion_matrix(y_test, yhat))\n"
   ]
  },
  {
   "cell_type": "code",
   "execution_count": 85,
   "metadata": {},
   "outputs": [
    {
     "name": "stdout",
     "output_type": "stream",
     "text": [
      "\n",
      "\n",
      "-----MODULE CLASSIFICATION METRICS-----\n",
      "precision: 0.7111111111111111\n",
      "recall: 0.7191011235955056\n",
      "accuracy: 0.7616822429906542\n",
      "f1: 0.7150837988826815\n"
     ]
    },
    {
     "data": {
      "image/png": "[encoded data removed]",
      "text/plain": [
       "<Figure size 640x480 with 2 Axes>"
      ]
     },
     "metadata": {},
     "output_type": "display_data"
    }
   ],
   "source": [
    "\n",
    "\n",
    "from py566 import Lab4_helper\n",
    "from py566 import Lab3_helper\n",
    "from sklearn.metrics import confusion_matrix\n",
    "\n",
    "titanic_df = pd.read_csv(\n",
    "    f\"../data/titanic.csv\"\n",
    ")\n",
    "\n",
    "default = 0\n",
    "from sklearn.model_selection import train_test_split\n",
    "\n",
    "X2, t = format_data()\n",
    "\n",
    "reg = py566.decision_tree.DecisionTree()\n",
    "\n",
    "\n",
    "X_train, X_test, t_train, t_test = train_test_split(X2, t, test_size=0.3, random_state = 0)\n",
    "X_train, X_test = X.loc[X_train.index], X.loc[X_test.index]\n",
    "reg.fit(X_train, t_train)\n",
    "t_pred = reg.predict(X_test)\n",
    "\n",
    "print_all_metrics(t_test, t_pred, classifier=True)\n"
   ]
  },
  {
   "cell_type": "code",
   "execution_count": 105,
   "metadata": {},
   "outputs": [
    {
     "name": "stdout",
     "output_type": "stream",
     "text": [
      "\n",
      "\n",
      "-----MODULE CLASSIFICATION METRICS-----\n",
      "precision: 0.735632183908046\n",
      "recall: 0.7191011235955056\n",
      "accuracy: 0.7757009345794392\n",
      "f1: 0.7272727272727273\n"
     ]
    },
    {
     "data": {
      "image/png": "[encoded data removed]",
      "text/plain": [
       "<Figure size 640x480 with 2 Axes>"
      ]
     },
     "metadata": {},
     "output_type": "display_data"
    }
   ],
   "source": [
    "reg = py566.ensemble.BaggingRegressor(ntrees=100,get_learner_func=lambda: py566.decision_tree.DecisionTree())\n",
    "\n",
    "X_train, X_test, t_train, t_test = train_test_split(X2, t, test_size=0.3, random_state = 0)\n",
    "X_train, X_test = X.loc[X_train.index], X.loc[X_test.index]\n",
    "reg.fit(X_train, t_train)\n",
    "t_pred = reg.predict(X_test, random_forest=True) \n",
    "\n",
    "print_all_metrics(t_test, t_pred, classifier=True)"
   ]
  }
 ],
 "metadata": {
  "celltoolbar": "Slideshow",
  "hide_code_all_hidden": false,
  "kernelspec": {
   "display_name": ".venv",
   "language": "python",
   "name": "python3"
  },
  "language_info": {
   "codemirror_mode": {
    "name": "ipython",
    "version": 3
   },
   "file_extension": ".py",
   "mimetype": "text/x-python",
   "name": "python",
   "nbconvert_exporter": "python",
   "pygments_lexer": "ipython3",
   "version": "3.9.15"
  },
  "vscode": {
   "interpreter": {
    "hash": "08d3d44f94e2b450ebd2e81c436652806086eaf524db6261d127def37ee385e8"
   }
  }
 },
 "nbformat": 4,
 "nbformat_minor": 4
}
